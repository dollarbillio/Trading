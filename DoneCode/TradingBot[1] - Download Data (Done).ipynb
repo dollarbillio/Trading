{
 "cells": [
  {
   "cell_type": "markdown",
   "metadata": {},
   "source": [
    "---\n",
    "##### Please always document your code carefully because you may not understand your thinking process later\n",
    "---"
   ]
  },
  {
   "cell_type": "code",
   "execution_count": 1,
   "metadata": {},
   "outputs": [],
   "source": [
    "# Import all necessary Package\n",
    "import os\n",
    "import zipfile\n",
    "import urllib.request\n",
    "from datetime import datetime, timedelta\n",
    "import calendar"
   ]
  },
  {
   "cell_type": "markdown",
   "metadata": {},
   "source": [
    "### Create empty folder"
   ]
  },
  {
   "cell_type": "code",
   "execution_count": 2,
   "metadata": {},
   "outputs": [],
   "source": [
    "# Change location to Downloads\n",
    "dwnldfile = '/Users/dollarbillio/Downloads'\n",
    "os.chdir(dwnldfile)\n",
    "os.getcwd()\n",
    "\n",
    "# Create martketData folder\n",
    "marketData = '/Users/dollarbillio/Downloads/MarketData'\n",
    "if not os.path.exists(marketData):\n",
    "    os.makedirs(marketData)\n",
    "    os.chdir(marketData)"
   ]
  },
  {
   "cell_type": "code",
   "execution_count": 3,
   "metadata": {},
   "outputs": [
    {
     "name": "stdout",
     "output_type": "stream",
     "text": [
      "NgayBaoCao ==> 'htrc' or 'hnay' or 'hkia'?: hkia\n"
     ]
    }
   ],
   "source": [
    "# Working with time\n",
    "date = datetime.now()\n",
    "dataDate = input (\"NgayBaoCao ==> 'htrc' or 'hnay' or 'hkia'?: \")\n",
    "if dataDate == 'htrc':\n",
    "    date -= timedelta(days=1)\n",
    "elif dataDate == 'hkia':\n",
    "    date -= timedelta(days=2)\n",
    "\n",
    "datetoday=date.strftime('%d.%m.%y')\n",
    "\n",
    "dataDate = marketData + '/' + datetoday"
   ]
  },
  {
   "cell_type": "code",
   "execution_count": 4,
   "metadata": {},
   "outputs": [],
   "source": [
    "if not os.path.exists(dataDate):\n",
    "    os.makedirs(dataDate)\n",
    "    os.chdir(dataDate)"
   ]
  },
  {
   "cell_type": "markdown",
   "metadata": {},
   "source": [
    "-----\n",
    "### Download and upzip files"
   ]
  },
  {
   "cell_type": "code",
   "execution_count": 5,
   "metadata": {},
   "outputs": [],
   "source": [
    "d1 = date.strftime('%Y%m%d')\n",
    "d2 = date.strftime('%d%m%Y')\n",
    "d3 = date.strftime('%d%m%y')"
   ]
  },
  {
   "cell_type": "code",
   "execution_count": 6,
   "metadata": {},
   "outputs": [],
   "source": [
    "# file to download and file zip to write the download file into\n",
    "indexUptoZip = '/Users/dollarbillio/Downloads/MarketData/' + datetoday + '/IndexUpto' + d3 + \".zip\"\n",
    "indexUpto = \"http://images1.cafef.vn/data/\" + d1 + \"/CafeF.Index.Upto\" + d2 + \".zip\"\n",
    "\n",
    "stockEOD='http://images1.cafef.vn/data/' + d1 + '/CafeF.SolieuGD.' + d2 + '.zip'\n",
    "stockUpto='http://images1.cafef.vn/data/' + d1 + '/CafeF.SolieuGD.Upto' + d2 + '.zip'\n",
    "\n",
    "stockEODZip='/Users/dollarbillio/Downloads/MarketData/' + datetoday + '/stockEOD' + d3 + \".zip\"\n",
    "stockUptoZip='/Users/dollarbillio/Downloads/MarketData/' + datetoday + '/stockUpto' + d3 + \".zip\""
   ]
  },
  {
   "cell_type": "code",
   "execution_count": 7,
   "metadata": {},
   "outputs": [],
   "source": [
    "# Write and unzip file\n",
    "stockDataDict = {stockEOD:stockEODZip, stockUpto:stockUptoZip, indexUpto:indexUptoZip}\n",
    "extractTo='/Users/dollarbillio/Downloads/MarketData/' + datetoday\n",
    "\n",
    "for keys, values in stockDataDict.items():\n",
    "    if not os.path.exists(values):\n",
    "        webRequest = urllib.request.Request(keys)\n",
    "        page = urllib.request.urlopen(webRequest)\n",
    "        # save the contents of this page into a variable called 'content'\n",
    "        # These contents are literally the zip file from the URL (i.e. what \n",
    "        # we got when we just downloaded the file manually\n",
    "        content = page.read()\n",
    "        # Now save the contents of the zip file to disk locally\n",
    "        # 1. Open the file (barrel)\n",
    "        output = open(values,\"wb\")\n",
    "        # the 'w' indicates that we intend to write, i.e. put stuff into the \n",
    "        # barrel. the 'b' indicates that this is a binary (not a text) file\n",
    "        output.write(bytearray(content))\n",
    "        # 2. In the line above, we actually write contents to the file. \n",
    "        # Note how the function bytearray - from python's libraries - \n",
    "        # knows how to convert this binary file into a bytearray that can\n",
    "        # be written to file.\n",
    "        output.close()\n",
    "        # 3. The barrel (i.e. the file) is closed, sealed shut\n",
    "        \n",
    "        if os.path.exists(values):\n",
    "            fh = open(values, 'rb')\n",
    "            zipFileHandler = zipfile.ZipFile(fh)\n",
    "            for filename in zipFileHandler.namelist():\n",
    "                zipFileHandler.extract(filename, extractTo)\n",
    "            fh.close()"
   ]
  },
  {
   "cell_type": "markdown",
   "metadata": {},
   "source": [
    "---"
   ]
  },
  {
   "cell_type": "code",
   "execution_count": null,
   "metadata": {},
   "outputs": [],
   "source": []
  }
 ],
 "metadata": {
  "kernelspec": {
   "display_name": "Python 3",
   "language": "python",
   "name": "python3"
  },
  "language_info": {
   "codemirror_mode": {
    "name": "ipython",
    "version": 3
   },
   "file_extension": ".py",
   "mimetype": "text/x-python",
   "name": "python",
   "nbconvert_exporter": "python",
   "pygments_lexer": "ipython3",
   "version": "3.6.9"
  }
 },
 "nbformat": 4,
 "nbformat_minor": 2
}
